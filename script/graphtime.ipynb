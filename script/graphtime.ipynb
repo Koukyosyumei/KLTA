{
 "cells": [
  {
   "cell_type": "code",
   "execution_count": null,
   "id": "db61daa6-19e5-4a0b-88a5-4dab66fec61e",
   "metadata": {},
   "outputs": [],
   "source": [
    "import pandas as pd\n",
    "from matplotlib import pyplot as plt\n",
    "\n",
    "plt.style.use(\"ggplot\")"
   ]
  },
  {
   "cell_type": "code",
   "execution_count": null,
   "id": "4a2a4c33-fd51-4767-9b0b-143be20299e1",
   "metadata": {},
   "outputs": [],
   "source": [
    "path = \"../output/ideal.out\"\n",
    "\n",
    "with open(path, mode=\"r\") as f:\n",
    "    lines = f.readlines()\n",
    "    \n",
    "lines = [lin.replace(\"\\n\", \"\") for lin in lines]\n",
    "k = lines[1].split(\"=\")[1]\n",
    "el = lines[2].split(\"=\")[1]\n",
    "v = lines[3].split(\"=\")[1]\n",
    "h = lines[4].split(\"=\")[1]\n",
    "j = lines[5].split(\"=\")[1]\n",
    "c = lines[6].split(\"=\")[1]\n",
    "u = lines[7].split(\"=\")[1]\n",
    "p = lines[8].split(\"=\")[1]\n",
    "\n",
    "\n",
    "times_log = []\n",
    "for i, lin in enumerate(lines):\n",
    "    if \"[ms]\" in lin:\n",
    "        infos = lin.split(\", \")\n",
    "        parsed_infos = [float(i.split(\" \")[0]) for i in infos]\n",
    "        times_log.append(parsed_infos)\n",
    "    if \"Performance Summary of DFBB\" in lin:\n",
    "        break"
   ]
  },
  {
   "cell_type": "code",
   "execution_count": null,
   "id": "035d9b4e-85df-4d96-b50c-4c9f3c2743b8",
   "metadata": {},
   "outputs": [],
   "source": [
    "df = pd.DataFrame(times_log, columns = [\"time\", \"NumberOfAnonymizedPaths\", \"AverageCost\", \n",
    "                                   \"NumberOfPartitions\", \"NumberOfValidPartitions\",\n",
    "                                   \"NumberofSkipped\", \"NumberOfDuplicated\", \"NumberOfNodes\"])"
   ]
  },
  {
   "cell_type": "code",
   "execution_count": null,
   "id": "40cffc40-997e-4b1a-883d-582559534b6d",
   "metadata": {},
   "outputs": [],
   "source": [
    "plt.plot(df.time, df.NumberOfPartitions)\n",
    "plt.show()\n",
    "\n",
    "plt.plot(df.time, df.AverageCost)\n",
    "plt.show()"
   ]
  },
  {
   "cell_type": "code",
   "execution_count": null,
   "id": "d576e1ac-32c3-4a6c-be8f-fcb90af63619",
   "metadata": {},
   "outputs": [],
   "source": []
  },
  {
   "cell_type": "code",
   "execution_count": null,
   "id": "2931b921-3051-4d89-82df-281196bd772f",
   "metadata": {},
   "outputs": [],
   "source": []
  }
 ],
 "metadata": {
  "kernelspec": {
   "display_name": "Python 3",
   "language": "python",
   "name": "python3"
  },
  "language_info": {
   "codemirror_mode": {
    "name": "ipython",
    "version": 3
   },
   "file_extension": ".py",
   "mimetype": "text/x-python",
   "name": "python",
   "nbconvert_exporter": "python",
   "pygments_lexer": "ipython3",
   "version": "3.9.1"
  }
 },
 "nbformat": 4,
 "nbformat_minor": 5
}
