{
 "cells": [
  {
   "cell_type": "code",
   "execution_count": null,
   "id": "1c422025-3405-42c9-bc33-12a92fc7542f",
   "metadata": {
    "tags": []
   },
   "outputs": [],
   "source": [
    "import osmnx as ox\n",
    "import networkx as nx\n",
    "import folium\n",
    "G=nx.Graph()\n",
    "\n",
    "#座標を指定し地図データをダウンロード\n",
    "G = ox.graph_from_point(center_point=(40.6156, -74.7706), network_type='drive', dist=3000)\n",
    "# G = ox.graph_from_point(center_point=(38.5323, -77.0032), network_type='drive', dist=1000)\n",
    "#グラフを可視化する\n",
    "ox.plot_graph(G,node_color='#87cefa',save=True,filepath='kobe.jpg')"
   ]
  },
  {
   "cell_type": "code",
   "execution_count": null,
   "id": "4c2ea896-cced-4627-8575-e65a165bce87",
   "metadata": {
    "tags": []
   },
   "outputs": [],
   "source": [
    "node_ids = {i: n_id for i, n_id in enumerate(sorted(list(G.nodes)))}\n",
    "i_node_ids = {n_id:i for i, n_id in enumerate(sorted(list(G.nodes)))}"
   ]
  },
  {
   "cell_type": "code",
   "execution_count": null,
   "id": "39517765-31ac-4d27-b5b0-c9784f7bca57",
   "metadata": {
    "tags": []
   },
   "outputs": [],
   "source": [
    "from vis import parse_input, parse_output, extract_partition"
   ]
  },
  {
   "cell_type": "code",
   "execution_count": null,
   "id": "429f3ee1-aae9-471b-b420-782bbaffb254",
   "metadata": {
    "tags": []
   },
   "outputs": [],
   "source": [
    "ps50 = parse_output(\"output/map.in-1.in.out50\")\n",
    "ps300 = parse_output(\"output/map.in-1.in.out300\")"
   ]
  },
  {
   "cell_type": "code",
   "execution_count": null,
   "id": "cd19833a-bcbe-4d6c-8dad-aeb0a6c1acde",
   "metadata": {
    "tags": []
   },
   "outputs": [],
   "source": [
    "nid2pid50 = {}\n",
    "for i, p in enumerate(ps50):\n",
    "    for e in p[0]:\n",
    "        nid2pid50[e] = i\n",
    "        \n",
    "nid2pid300 = {}\n",
    "for i, p in enumerate(ps300):\n",
    "    for e in p[0]:\n",
    "        nid2pid300[e] = i"
   ]
  },
  {
   "cell_type": "code",
   "execution_count": null,
   "id": "d062fdea-3a8b-4d42-b02a-3f0ad1606837",
   "metadata": {
    "tags": []
   },
   "outputs": [],
   "source": [
    "len(G.nodes)"
   ]
  },
  {
   "cell_type": "code",
   "execution_count": null,
   "id": "ef155271-5e06-4274-9185-29ae29143938",
   "metadata": {
    "tags": []
   },
   "outputs": [],
   "source": [
    "for i in range(len(G.nodes)):\n",
    "    print(i)\n",
    "    for ps, nid2pid in zip([ps50, ps300], [nid2pid50, nid2pid300]):\n",
    "        if (i not in nid2pid):\n",
    "            continue\n",
    "        elements_, path_, path_edges_ = extract_partition(ps, nid2pid[i])\n",
    "        elements = [node_ids[e] for e in elements_]\n",
    "        path = [node_ids[p] for p in path_]\n",
    "        path_edges = [[p[0], p[1]] for p in path_edges_]\n",
    "\n",
    "        node_color = []\n",
    "        elements_set = set(elements)\n",
    "        for n in G.nodes:\n",
    "            if path[0] == n:\n",
    "                node_color.append(\"g\")\n",
    "            elif path[-1] == n:\n",
    "                node_color.append(\"y\")\n",
    "            elif n in elements_set:\n",
    "                node_color.append(\"r\")\n",
    "            else:\n",
    "                node_color.append(\"w\")\n",
    "\n",
    "        ox.plot_graph_routes(G, [path, [path[0]], [path[-1]]], node_color=node_color, \n",
    "                             route_colors=[\"b\", \"y\", \"g\"], \n",
    "                             orig_dest_size=200, route_linewidths= [3.0, 0.0, 0.0], route_alpha=0.5)"
   ]
  },
  {
   "cell_type": "code",
   "execution_count": null,
   "id": "8154d7df-dae4-497a-b3ea-b187d640e57a",
   "metadata": {
    "tags": []
   },
   "outputs": [],
   "source": [
    "elements"
   ]
  },
  {
   "cell_type": "code",
   "execution_count": null,
   "id": "021613b0-41da-429f-a008-bdaa83195d8c",
   "metadata": {
    "tags": []
   },
   "outputs": [],
   "source": [
    "for i in range(70):\n",
    "    if i not in nid2pid300:\n",
    "        continue\n",
    "    elements_, path_, path_edges_ = extract_partition(ps300, nid2pid300[i])\n",
    "    elements = [node_ids[e] for e in elements_]\n",
    "    path = [node_ids[p] for p in path_]\n",
    "    path_edges = [[p[0], p[1]] for p in path_edges_]\n",
    "\n",
    "    #ox.plot_graph(G,node_color='#87cefa')\n",
    "    m = ox.plot_route_folium(G, path, tiles=\"openstreetmap\")\n",
    "\n",
    "    folium.Marker(popup=\"Start\", location=(node_df[node_df.index == path[0]].y.values[0],\n",
    "                            node_df[node_df.index == path[0]].x.values[0])).add_to(m)\n",
    "    folium.Marker(icon=folium.Icon(icon=\"bell\", color=\"green\"), \n",
    "                  location=(node_df[node_df.index == path[-1]].y.values[0],\n",
    "                            node_df[node_df.index == path[-1]].x.values[0])).add_to(m)\n",
    "\n",
    "    for e in elements:\n",
    "        folium.Marker(icon=folium.Icon(color='red', icon=\"eye-open\"),\n",
    "                      location=(node_df[node_df.index == e].y.values[0],\n",
    "                            node_df[node_df.index == e].x.values[0])).add_to(m)\n",
    "\n",
    "    m.save(f\"map_{i}.html\")"
   ]
  },
  {
   "cell_type": "code",
   "execution_count": null,
   "id": "e925321e-814d-4fbc-8323-7dcc14844845",
   "metadata": {},
   "outputs": [],
   "source": []
  }
 ],
 "metadata": {
  "kernelspec": {
   "display_name": "Python 3 (ipykernel)",
   "language": "python",
   "name": "python3"
  },
  "language_info": {
   "codemirror_mode": {
    "name": "ipython",
    "version": 3
   },
   "file_extension": ".py",
   "mimetype": "text/x-python",
   "name": "python",
   "nbconvert_exporter": "python",
   "pygments_lexer": "ipython3",
   "version": "3.10.6"
  }
 },
 "nbformat": 4,
 "nbformat_minor": 5
}
