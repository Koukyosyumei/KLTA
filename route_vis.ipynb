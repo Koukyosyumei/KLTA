{
 "cells": [
  {
   "cell_type": "code",
   "execution_count": null,
   "id": "1c422025-3405-42c9-bc33-12a92fc7542f",
   "metadata": {
    "tags": []
   },
   "outputs": [],
   "source": [
    "import osmnx as ox\n",
    "import networkx as nx\n",
    "G=nx.Graph()\n",
    "\n",
    "#座標を指定し地図データをダウンロード\n",
    "G = ox.graph_from_point(center_point=(40.6156, -74.7706), network_type='drive', dist=3000)\n",
    "# G = ox.graph_from_point(center_point=(38.5323, -77.0032), network_type='drive', dist=1000)\n",
    "#グラフを可視化する\n",
    "ox.plot_graph(G,node_color='#87cefa',save=True,filepath='kobe.jpg')"
   ]
  },
  {
   "cell_type": "code",
   "execution_count": null,
   "id": "4c2ea896-cced-4627-8575-e65a165bce87",
   "metadata": {
    "tags": []
   },
   "outputs": [],
   "source": [
    "node_ids = {i: n_id for i, n_id in enumerate(sorted(list(G.nodes)))}\n",
    "i_node_ids = {n_id:i for i, n_id in enumerate(sorted(list(G.nodes)))}"
   ]
  },
  {
   "cell_type": "code",
   "execution_count": null,
   "id": "39517765-31ac-4d27-b5b0-c9784f7bca57",
   "metadata": {
    "tags": []
   },
   "outputs": [],
   "source": [
    "from vis import parse_input, parse_output, extract_partition"
   ]
  },
  {
   "cell_type": "code",
   "execution_count": null,
   "id": "429f3ee1-aae9-471b-b420-782bbaffb254",
   "metadata": {},
   "outputs": [],
   "source": [
    "ps = parse_output(\"output/map.out-1.txt\")"
   ]
  },
  {
   "cell_type": "code",
   "execution_count": null,
   "id": "faee34c3-da97-4e75-9aa8-8d0ed2bbdc42",
   "metadata": {
    "tags": []
   },
   "outputs": [],
   "source": []
  },
  {
   "cell_type": "code",
   "execution_count": null,
   "id": "ef155271-5e06-4274-9185-29ae29143938",
   "metadata": {
    "tags": []
   },
   "outputs": [],
   "source": [
    "for i in range(30):\n",
    "    print(i)\n",
    "    elements_, path_, path_edges_ = extract_partition(ps, i)\n",
    "    elements = [node_ids[e] for e in elements_]\n",
    "    path = [node_ids[p] for p in path_]\n",
    "    path_edges = [[p[0], p[1]] for p in path_edges_]\n",
    "\n",
    "    node_color = []\n",
    "    elements_set = set(elements)\n",
    "    for n in G.nodes:\n",
    "        if path[0] == n:\n",
    "            node_color.append(\"g\")\n",
    "        elif path[-1] == n:\n",
    "            node_color.append(\"y\")\n",
    "        elif n in elements_set:\n",
    "            node_color.append(\"r\")\n",
    "        else:\n",
    "            node_color.append(\"w\")\n",
    "\n",
    "    ox.plot_graph_routes(G, [path, [path[0]], [path[-1]]], node_color=node_color, \n",
    "                         route_colors=[\"b\", \"y\", \"g\"], \n",
    "                         orig_dest_size=200, route_linewidths= [3.0, 0.0, 0.0], route_alpha=0.5)"
   ]
  },
  {
   "cell_type": "code",
   "execution_count": null,
   "id": "021613b0-41da-429f-a008-bdaa83195d8c",
   "metadata": {
    "tags": []
   },
   "outputs": [],
   "source": [
    "# ox.plot_graph(G,node_color='#87cefa')\n",
    "# ox.plot_route_folium(G, path, tiles=\"openstreetmap\")"
   ]
  },
  {
   "cell_type": "code",
   "execution_count": null,
   "id": "6144c89b-7a85-4c9d-824e-a2be729d1f3f",
   "metadata": {
    "tags": []
   },
   "outputs": [],
   "source": []
  },
  {
   "cell_type": "code",
   "execution_count": null,
   "id": "7ddd0f77-d427-42f1-866b-96220b835162",
   "metadata": {
    "tags": []
   },
   "outputs": [],
   "source": [
    "path_edges"
   ]
  },
  {
   "cell_type": "code",
   "execution_count": null,
   "id": "e925321e-814d-4fbc-8323-7dcc14844845",
   "metadata": {},
   "outputs": [],
   "source": []
  }
 ],
 "metadata": {
  "kernelspec": {
   "display_name": "Python 3 (ipykernel)",
   "language": "python",
   "name": "python3"
  },
  "language_info": {
   "codemirror_mode": {
    "name": "ipython",
    "version": 3
   },
   "file_extension": ".py",
   "mimetype": "text/x-python",
   "name": "python",
   "nbconvert_exporter": "python",
   "pygments_lexer": "ipython3",
   "version": "3.10.6"
  }
 },
 "nbformat": 4,
 "nbformat_minor": 5
}
