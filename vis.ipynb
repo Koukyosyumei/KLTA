{
 "cells": [
  {
   "cell_type": "code",
   "execution_count": 1,
   "id": "15aeebbb-0478-4b44-8fec-04256d0d0d86",
   "metadata": {},
   "outputs": [],
   "source": [
    "import matplotlib.pyplot as plt\n",
    "import numpy as np\n",
    "import json\n",
    "plt.style.use(\"ggplot\")\n",
    "\n",
    "colors = {\n",
    "    \".\": \"bisque\",\n",
    "    \"@\": \"black\",\n",
    "    \"T\": \"black\",\n",
    "    \"S\": \"cyan\",\n",
    "    \"G\": \"green\",\n",
    "    \"P\": \"red\",\n",
    "    \"0\": \"red\",\n",
    "    \"1\": \"blue\",\n",
    "    \"2\": \"purple\",\n",
    "    \"3\": \"orange\"\n",
    "}\n",
    "\n",
    "domain_path = \"assets/den101d.map\"\n",
    "problem_path = \"data/den101d.map_n=1_e=1_s=3.in\"\n",
    "solution_path = \"log.out\""
   ]
  },
  {
   "cell_type": "code",
   "execution_count": 2,
   "id": "689c3230-422b-453e-8fa1-a3d6ed65ae94",
   "metadata": {},
   "outputs": [],
   "source": [
    "with open(domain_path, mode=\"r\") as f:\n",
    "    lines = f.readlines()\n",
    "    \n",
    "height = int(lines[1][:-1].split(\" \")[-1])\n",
    "width = int(lines[2][:-1].split(\" \")[-1])\n",
    "grid = np.array([[lin for lin in line[:-1]] for line in lines[4:]])"
   ]
  },
  {
   "cell_type": "code",
   "execution_count": 3,
   "id": "e0e6654a-cd6c-46b2-bfb8-1bfb75582325",
   "metadata": {},
   "outputs": [],
   "source": [
    "with open(problem_path, mode=\"r\") as f:\n",
    "    lines = f.readlines()\n",
    "    \n",
    "sublines = lines[int(lines[0].split(\" \")[1][:-1])+2:]\n",
    "maps = [list(map(int, lin[:-1].split(\" \"))) for lin in sublines[int(sublines[0][:-1])+1:]]\n",
    "map_node_id = {m[0]:m[1] for m in maps}\n",
    "node_id_map = {m[1]:m[0] for m in maps}"
   ]
  },
  {
   "cell_type": "code",
   "execution_count": 4,
   "id": "00e8bec9-e4d7-441a-ba3f-c4cc7000c56e",
   "metadata": {},
   "outputs": [],
   "source": [
    "with open(solution_path, mode=\"r\") as f:\n",
    "    lines = f.readlines()"
   ]
  },
  {
   "cell_type": "code",
   "execution_count": 5,
   "id": "0586c25b-9717-4506-83e3-042a2449792b",
   "metadata": {},
   "outputs": [],
   "source": [
    "partitions = []\n",
    "\n",
    "i = 0\n",
    "while True:\n",
    "    lin = lines[i]\n",
    "    if lin[:9] == \"Partition\":\n",
    "        break\n",
    "    i += 1\n",
    "\n",
    "i += 1\n",
    "elements = list(map(int, lines[i:][0][:-2].split(\" \")))\n",
    "partitions.append(elements)\n",
    "i += 1\n",
    "\n",
    "paths = []\n",
    "while True:\n",
    "    path = []\n",
    "    if len(lines) <= i:\n",
    "        break\n",
    "    while True:\n",
    "        if len(lines) <= i:\n",
    "            break\n",
    "        lin = lines[i]\n",
    "        if lin[:9] == \"Partition\":\n",
    "            i += 1\n",
    "            elements = list(map(int, lines[i][:-2].split(\" \")))\n",
    "            partitions.append(elements)\n",
    "            i += 1\n",
    "            break\n",
    "        path.append(int(lin.split(\" \")[0]))\n",
    "        i += 1\n",
    "    paths.append(path)"
   ]
  },
  {
   "cell_type": "code",
   "execution_count": 6,
   "id": "359348ba-d497-4bc9-ba87-a4dfe9470518",
   "metadata": {},
   "outputs": [],
   "source": [
    "source = node_id_map[paths[0][0]]\n",
    "goal = node_id_map[paths[0][-1]]"
   ]
  },
  {
   "cell_type": "code",
   "execution_count": 7,
   "id": "4bd6c620-5f52-453b-b0a6-38073992fbda",
   "metadata": {
    "tags": []
   },
   "outputs": [],
   "source": [
    "grid_height = len(grid)\n",
    "grid_width = len(grid[0])\n",
    "\n",
    "grid[source // grid_width, source % grid_width] = \"S\"\n",
    "grid[goal // grid_width, goal % grid_width] = \"G\"\n",
    "\n",
    "for t, path in enumerate(paths):\n",
    "    for p in path[1:-1]:\n",
    "        n = node_id_map[p]\n",
    "        if grid[n // grid_width, n % grid_width] not in [\"S\", \"G\"]:\n",
    "            grid[n // grid_width, n % grid_width] = str(t)\n",
    "        \n",
    "tlis = []\n",
    "for t, elements in enumerate(partitions):\n",
    "    for e in elements:\n",
    "        n = node_id_map[e]\n",
    "        grid[n // grid_width, n % grid_width] = str(t)\n",
    "        tlis.append((n // grid_width, n % grid_width))\n",
    "\n",
    "grid_img = np.zeros((grid_height, grid_width, 4), dtype=float)\n",
    "for i, row in enumerate(grid):\n",
    "    for j, cell in enumerate(row):\n",
    "        alpha = 0.25\n",
    "        if (i, j) in tlis:\n",
    "            alpha = 1.0\n",
    "        elif colors[cell] == \"bisque\":\n",
    "            alpha = 0.0\n",
    "        elif colors[cell] in [\"black\"]:\n",
    "            alpha = 0.8\n",
    "        elif colors[cell] in [\"cyan\", \"green\"]:\n",
    "            alpha = 1.0\n",
    "        grid_img[i, j] += np.array(list(plt.cm.colors.to_rgb(colors[cell])) + [alpha])"
   ]
  },
  {
   "cell_type": "code",
   "execution_count": 8,
   "id": "18ca255e-df3a-4808-abf0-47f89eed6e22",
   "metadata": {},
   "outputs": [
    {
     "data": {
      "image/png": "[encoded data removed]",
      "text/plain": [
       "<Figure size 640x480 with 1 Axes>"
      ]
     },
     "metadata": {},
     "output_type": "display_data"
    }
   ],
   "source": [
    "plt.grid(False)\n",
    "plt.axis('off')\n",
    "plt.imshow(grid_img)#[60:125, 35:220])\n",
    "plt.tight_layout()\n",
    "plt.savefig(\"den101_seed3_el10.pdf\", bbox_inches='tight')"
   ]
  },
  {
   "cell_type": "code",
   "execution_count": 124,
   "id": "d3c35d99-73c1-4c9a-ab1d-65bcb1275394",
   "metadata": {},
   "outputs": [
    {
     "data": {
      "text/plain": [
       "[[1236, 134], [757, 1189], [970, 26], [1281, 1240]]"
      ]
     },
     "execution_count": 124,
     "metadata": {},
     "output_type": "execute_result"
    }
   ],
   "source": [
    "partitions"
   ]
  },
  {
   "cell_type": "code",
   "execution_count": 125,
   "id": "7ad4f298-2f07-430b-b0ec-aabb37b941ef",
   "metadata": {},
   "outputs": [
    {
     "data": {
      "text/plain": [
       "array([['@', '@', '@', ..., 'T', 'T', 'T'],\n",
       "       ['@', '@', '@', ..., 'T', 'T', 'T'],\n",
       "       ['@', '@', '@', ..., 'T', 'T', 'T'],\n",
       "       ...,\n",
       "       ['T', 'T', 'T', ..., '@', '@', '@'],\n",
       "       ['T', 'T', 'T', ..., '@', '@', '@'],\n",
       "       ['T', 'T', 'T', ..., '@', '@', '@']], dtype='<U1')"
      ]
     },
     "execution_count": 125,
     "metadata": {},
     "output_type": "execute_result"
    }
   ],
   "source": [
    "grid"
   ]
  },
  {
   "cell_type": "code",
   "execution_count": null,
   "id": "2f5a071f-4eb8-4eae-8c0e-fe7daafdd6e7",
   "metadata": {},
   "outputs": [],
   "source": []
  },
  {
   "cell_type": "code",
   "execution_count": null,
   "id": "91a62bde-7f78-40c5-8f20-bccf9d6ed347",
   "metadata": {},
   "outputs": [],
   "source": []
  },
  {
   "cell_type": "code",
   "execution_count": null,
   "id": "69cabad1-f53f-4cf7-b343-3284345c3e8f",
   "metadata": {},
   "outputs": [],
   "source": []
  }
 ],
 "metadata": {
  "kernelspec": {
   "display_name": "Python 3",
   "language": "python",
   "name": "python3"
  },
  "language_info": {
   "codemirror_mode": {
    "name": "ipython",
    "version": 3
   },
   "file_extension": ".py",
   "mimetype": "text/x-python",
   "name": "python",
   "nbconvert_exporter": "python",
   "pygments_lexer": "ipython3",
   "version": "3.9.1"
  }
 },
 "nbformat": 4,
 "nbformat_minor": 5
}
